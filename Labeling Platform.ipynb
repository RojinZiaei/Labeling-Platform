{
 "cells": [
  {
   "cell_type": "code",
   "execution_count": 9,
   "metadata": {
    "colab": {
     "base_uri": "https://localhost:8080/",
     "height": 1000
    },
    "executionInfo": {
     "elapsed": 99640,
     "status": "ok",
     "timestamp": 1709862252661,
     "user": {
      "displayName": "Rojin",
      "userId": "14743063101169349598"
     },
     "user_tz": 300
    },
    "id": "_3jjKl9drZ4o",
    "outputId": "bba22d15-46c8-4cf7-e9c2-4d61cfc3ea67"
   },
   "outputs": [
    {
     "name": "stdout",
     "output_type": "stream",
     "text": [
      "Collecting anyio==4.2.0\n",
      "  Using cached anyio-4.2.0-py3-none-any.whl (85 kB)\n",
      "Requirement already satisfied: appnope==0.1.3 in /Users/nazdimziaei/PycharmProjects/Protest/venv/lib/python3.8/site-packages (from -r requirements.txt (line 2)) (0.1.3)\n",
      "Requirement already satisfied: argon2-cffi==23.1.0 in /Users/nazdimziaei/PycharmProjects/Protest/venv/lib/python3.8/site-packages (from -r requirements.txt (line 3)) (23.1.0)\n",
      "Requirement already satisfied: argon2-cffi-bindings==21.2.0 in /Users/nazdimziaei/PycharmProjects/Protest/venv/lib/python3.8/site-packages (from -r requirements.txt (line 4)) (21.2.0)\n",
      "Requirement already satisfied: arrow==1.3.0 in /Users/nazdimziaei/PycharmProjects/Protest/venv/lib/python3.8/site-packages (from -r requirements.txt (line 5)) (1.3.0)\n",
      "Requirement already satisfied: asttokens==2.4.1 in /Users/nazdimziaei/PycharmProjects/Protest/venv/lib/python3.8/site-packages (from -r requirements.txt (line 6)) (2.4.1)\n",
      "Requirement already satisfied: async-lru==2.0.4 in /Users/nazdimziaei/PycharmProjects/Protest/venv/lib/python3.8/site-packages (from -r requirements.txt (line 7)) (2.0.4)\n",
      "Requirement already satisfied: attrs==23.2.0 in /Users/nazdimziaei/PycharmProjects/Protest/venv/lib/python3.8/site-packages (from -r requirements.txt (line 8)) (23.2.0)\n",
      "Requirement already satisfied: Babel==2.14.0 in /Users/nazdimziaei/PycharmProjects/Protest/venv/lib/python3.8/site-packages (from -r requirements.txt (line 9)) (2.14.0)\n",
      "Requirement already satisfied: beautifulsoup4==4.12.3 in /Users/nazdimziaei/PycharmProjects/Protest/venv/lib/python3.8/site-packages (from -r requirements.txt (line 10)) (4.12.3)\n",
      "Requirement already satisfied: bleach==6.1.0 in /Users/nazdimziaei/PycharmProjects/Protest/venv/lib/python3.8/site-packages (from -r requirements.txt (line 11)) (6.1.0)\n",
      "Collecting certifi==2023.11.17\n",
      "  Using cached certifi-2023.11.17-py3-none-any.whl (162 kB)\n",
      "Requirement already satisfied: cffi==1.16.0 in /Users/nazdimziaei/PycharmProjects/Protest/venv/lib/python3.8/site-packages (from -r requirements.txt (line 13)) (1.16.0)\n",
      "Collecting charset-normalizer==3.3.2\n",
      "  Using cached charset_normalizer-3.3.2-cp38-cp38-macosx_10_9_x86_64.whl (121 kB)\n",
      "Collecting comm==0.2.1\n",
      "  Using cached comm-0.2.1-py3-none-any.whl (7.2 kB)\n",
      "Collecting debugpy==1.8.0\n",
      "  Using cached debugpy-1.8.0-py2.py3-none-any.whl (5.0 MB)\n",
      "Requirement already satisfied: decorator==5.1.1 in /Users/nazdimziaei/PycharmProjects/Protest/venv/lib/python3.8/site-packages (from -r requirements.txt (line 17)) (5.1.1)\n",
      "Requirement already satisfied: defusedxml==0.7.1 in /Users/nazdimziaei/PycharmProjects/Protest/venv/lib/python3.8/site-packages (from -r requirements.txt (line 18)) (0.7.1)\n",
      "Requirement already satisfied: exceptiongroup==1.2.0 in /Users/nazdimziaei/PycharmProjects/Protest/venv/lib/python3.8/site-packages (from -r requirements.txt (line 19)) (1.2.0)\n",
      "Requirement already satisfied: executing==2.0.1 in /Users/nazdimziaei/PycharmProjects/Protest/venv/lib/python3.8/site-packages (from -r requirements.txt (line 20)) (2.0.1)\n",
      "Requirement already satisfied: fastjsonschema==2.19.1 in /Users/nazdimziaei/PycharmProjects/Protest/venv/lib/python3.8/site-packages (from -r requirements.txt (line 21)) (2.19.1)\n",
      "Requirement already satisfied: fqdn==1.5.1 in /Users/nazdimziaei/PycharmProjects/Protest/venv/lib/python3.8/site-packages (from -r requirements.txt (line 22)) (1.5.1)\n",
      "Collecting idna==3.6\n",
      "  Using cached idna-3.6-py3-none-any.whl (61 kB)\n",
      "Collecting ipykernel==6.29.0\n",
      "  Using cached ipykernel-6.29.0-py3-none-any.whl (116 kB)\n",
      "\u001b[31mERROR: Could not find a version that satisfies the requirement ipython==8.20.0 (from versions: 0.10, 0.10.1, 0.10.2, 0.11, 0.12, 0.12.1, 0.13, 0.13.1, 0.13.2, 1.0.0, 1.1.0, 1.2.0, 1.2.1, 2.0.0, 2.1.0, 2.2.0, 2.3.0, 2.3.1, 2.4.0, 2.4.1, 3.0.0, 3.1.0, 3.2.0, 3.2.1, 3.2.2, 3.2.3, 4.0.0b1, 4.0.0, 4.0.1, 4.0.2, 4.0.3, 4.1.0rc1, 4.1.0rc2, 4.1.0, 4.1.1, 4.1.2, 4.2.0, 4.2.1, 5.0.0b1, 5.0.0b2, 5.0.0b3, 5.0.0b4, 5.0.0rc1, 5.0.0, 5.1.0, 5.2.0, 5.2.1, 5.2.2, 5.3.0, 5.4.0, 5.4.1, 5.5.0, 5.6.0, 5.7.0, 5.8.0, 5.9.0, 5.10.0, 6.0.0rc1, 6.0.0, 6.1.0, 6.2.0, 6.2.1, 6.3.0, 6.3.1, 6.4.0, 6.5.0, 7.0.0b1, 7.0.0rc1, 7.0.0, 7.0.1, 7.1.0, 7.1.1, 7.2.0, 7.3.0, 7.4.0, 7.5.0, 7.6.0, 7.6.1, 7.7.0, 7.8.0, 7.9.0, 7.10.0, 7.10.1, 7.10.2, 7.11.0, 7.11.1, 7.12.0, 7.13.0, 7.14.0, 7.15.0, 7.16.0, 7.16.1, 7.16.2, 7.16.3, 7.17.0, 7.18.0, 7.18.1, 7.19.0, 7.20.0, 7.21.0, 7.22.0, 7.23.0, 7.23.1, 7.24.0, 7.24.1, 7.25.0, 7.26.0, 7.27.0, 7.28.0, 7.29.0, 7.30.0, 7.30.1, 7.31.0, 7.31.1, 7.32.0, 7.33.0, 7.34.0, 8.0.0a1, 8.0.0b1, 8.0.0rc1, 8.0.0, 8.0.1, 8.1.0, 8.1.1, 8.2.0, 8.3.0, 8.4.0, 8.5.0, 8.6.0, 8.7.0, 8.8.0, 8.9.0, 8.10.0, 8.11.0, 8.12.0, 8.12.1, 8.12.2, 8.12.3, 8.13.0)\u001b[0m\n",
      "\u001b[31mERROR: No matching distribution found for ipython==8.20.0\u001b[0m\n",
      "\u001b[33mWARNING: You are using pip version 21.3.1; however, version 24.0 is available.\n",
      "You should consider upgrading via the '/Users/nazdimziaei/PycharmProjects/Protest/venv/bin/python -m pip install --upgrade pip' command.\u001b[0m\n"
     ]
    }
   ],
   "source": [
    " !pip install -r requirements.txt"
   ]
  },
  {
   "cell_type": "markdown",
   "metadata": {
    "id": "f7R27QW7tedM"
   },
   "source": []
  },
  {
   "cell_type": "code",
   "execution_count": 10,
   "metadata": {
    "colab": {
     "base_uri": "https://localhost:8080/"
    },
    "executionInfo": {
     "elapsed": 11895,
     "status": "ok",
     "timestamp": 1709862274381,
     "user": {
      "displayName": "Rojin",
      "userId": "14743063101169349598"
     },
     "user_tz": 300
    },
    "id": "6jKAN5HcttvB",
    "outputId": "bb8b30b9-63dd-456e-f218-45b1fee3353d"
   },
   "outputs": [
    {
     "ename": "ModuleNotFoundError",
     "evalue": "No module named 'google'",
     "output_type": "error",
     "traceback": [
      "\u001b[0;31m---------------------------------------------------------------------------\u001b[0m",
      "\u001b[0;31mModuleNotFoundError\u001b[0m                       Traceback (most recent call last)",
      "Cell \u001b[0;32mIn[10], line 1\u001b[0m\n\u001b[0;32m----> 1\u001b[0m \u001b[38;5;28;01mfrom\u001b[39;00m \u001b[38;5;21;01mgoogle\u001b[39;00m\u001b[38;5;21;01m.\u001b[39;00m\u001b[38;5;21;01mcolab\u001b[39;00m \u001b[38;5;28;01mimport\u001b[39;00m drive\n\u001b[1;32m      2\u001b[0m drive\u001b[38;5;241m.\u001b[39mmount(\u001b[38;5;124m'\u001b[39m\u001b[38;5;124m/content/drive\u001b[39m\u001b[38;5;124m'\u001b[39m)\n",
      "\u001b[0;31mModuleNotFoundError\u001b[0m: No module named 'google'"
     ]
    }
   ],
   "source": [
    "from google.colab import drive\n",
    "drive.mount('/content/drive')"
   ]
  },
  {
   "cell_type": "code",
   "execution_count": null,
   "metadata": {
    "colab": {
     "base_uri": "https://localhost:8080/"
    },
    "executionInfo": {
     "elapsed": 13456,
     "status": "ok",
     "timestamp": 1709862291731,
     "user": {
      "displayName": "Rojin",
      "userId": "14743063101169349598"
     },
     "user_tz": 300
    },
    "id": "iI4qsndMmYNT",
    "outputId": "76035db4-8352-4c72-da9c-1ebb34b5d977"
   },
   "outputs": [],
   "source": [
    "!pip install ipywidgets --upgrade\n",
    "!jupyter nbextension enable --py widgetsnbextension --sys-prefix\n"
   ]
  },
  {
   "cell_type": "code",
   "execution_count": null,
   "metadata": {
    "id": "hOSjwLlDCjCG"
   },
   "outputs": [],
   "source": [
    "!pip install tornado\n"
   ]
  },
  {
   "cell_type": "code",
   "execution_count": null,
   "metadata": {
    "colab": {
     "base_uri": "https://localhost:8080/"
    },
    "executionInfo": {
     "elapsed": 4893,
     "status": "ok",
     "timestamp": 1709862296604,
     "user": {
      "displayName": "Rojin",
      "userId": "14743063101169349598"
     },
     "user_tz": 300
    },
    "id": "BVKbk4GGmdHO",
    "outputId": "de056543-cb00-47fd-d3ca-159c4aca7298"
   },
   "outputs": [],
   "source": [
    "!jupyter labextension install @jupyter-widgets/jupyterlab-manager\n",
    "!pip install some-jupyterlab-extension\n"
   ]
  },
  {
   "cell_type": "code",
   "execution_count": null,
   "metadata": {
    "executionInfo": {
     "elapsed": 1958,
     "status": "ok",
     "timestamp": 1709862300754,
     "user": {
      "displayName": "Rojin",
      "userId": "14743063101169349598"
     },
     "user_tz": 300
    },
    "id": "NNPfpMnAVBYG"
   },
   "outputs": [],
   "source": [
    "# Imports\n",
    "import pickle\n",
    "import os\n",
    "import sys\n",
    "#sys.path.append('/content/drive/MyDrive/AnnotationPlatform')\n",
    "from utils import load_samples, annotate, get_demographics,save_demographics, load_annotations, export_csv\n",
    "\n",
    "#from Utill_test import load_samples, annotate, get_demographics, save_demographics, load_annotations, export_csv\n",
    "\n",
    "ANNOTATER_NAME=\"Template\"\n",
    "PATH_SAVE=f\"./{ANNOTATER_NAME}.pkl\"\n",
    "samples = load_samples(\"twitter12.csv\")"
   ]
  },
  {
   "cell_type": "code",
   "execution_count": null,
   "metadata": {
    "colab": {
     "base_uri": "https://localhost:8080/",
     "height": 131,
     "referenced_widgets": [
      "4d0fdc3f4de74624a2719735f9a559b9",
      "7926e8fba1f941e9b64ca80ee066425c",
      "e0347df61c54426bbaf8b67ee745ce11",
      "af152251a9934cb8ab646b2a2d74bdb8",
      "93df2a188fff480083b16334a3256095",
      "83391b8e022b4695b88447cec3548af0"
     ]
    },
    "executionInfo": {
     "elapsed": 192,
     "status": "ok",
     "timestamp": 1709862304215,
     "user": {
      "displayName": "Rojin",
      "userId": "14743063101169349598"
     },
     "user_tz": 300
    },
    "id": "TqOnLJoLq5H0",
    "outputId": "4309bffc-532d-4052-fd4e-2c3e9d2d5dc7"
   },
   "outputs": [],
   "source": [
    "demographics = get_demographics()"
   ]
  },
  {
   "cell_type": "markdown",
   "metadata": {
    "id": "0Q1DYL5dvdLR"
   },
   "source": [
    "# Instructions"
   ]
  },
  {
   "cell_type": "code",
   "execution_count": 11,
   "metadata": {
    "colab": {
     "base_uri": "https://localhost:8080/",
     "height": 306,
     "referenced_widgets": [
      "da276a317e284bb481120f55b57364b3",
      "70f40574bdce4080b9faca28fc0d0402",
      "122266379d8540d2b9227162b0fcc718",
      "23545c3059ea4412bd2d49c0e226d1d6",
      "b696e700049f4733bfffd538a7f27677",
      "01754243e2064c709a4c7daca844795d",
      "f841d64a83ce412ea4eb16b0d69ee86f",
      "d605090e47cb4e10837127fbcb69478e",
      "81f1c9db75ce429bba950c322d0272e7",
      "03c6e44f3be94cfebe064741c0b3b85a",
      "6de238cf491041208b2c88b85d203e07",
      "c9aac4750c6249fda0dcdff2ad67e890",
      "0df2e20f579341a393bf2d6d6fbc8d90",
      "eb61d492980c45d3b276c65acd07d150",
      "07c972b9c85046479f5fb389f01838b8",
      "404f76c7b0ed46c3b3e6c7fb70f5fab7",
      "0a528e32471141b6bbc022f53d624767",
      "aa0711b8a38442efac5f7b8ee638940e",
      "86e254778eeb4b14999de40e3daed132",
      "2be3089ce07a4cb28037b2346dd26407",
      "30b82255ec5c4530ac93d9b9f619442f"
     ]
    },
    "executionInfo": {
     "elapsed": 174,
     "status": "ok",
     "timestamp": 1709862306153,
     "user": {
      "displayName": "Rojin",
      "userId": "14743063101169349598"
     },
     "user_tz": 300
    },
    "id": "k8u3_4LMvkrs",
    "outputId": "1d19f8bb-c343-44f8-8897-4d0025b67ce5"
   },
   "outputs": [
    {
     "data": {
      "application/vnd.jupyter.widget-view+json": {
       "model_id": "0726f299c27a41f78728931554ee91fc",
       "version_major": 2,
       "version_minor": 0
      },
      "text/plain": [
       "HTML(value='6 of 2000 Examples annotated, Current Position: 1, Took 0s (Avg 0s) ')"
      ]
     },
     "metadata": {},
     "output_type": "display_data"
    },
    {
     "data": {
      "application/vnd.jupyter.widget-view+json": {
       "model_id": "144ca55205d9499fbfad444e84e20432",
       "version_major": 2,
       "version_minor": 0
      },
      "text/plain": [
       "HTML(value='')"
      ]
     },
     "metadata": {},
     "output_type": "display_data"
    },
    {
     "data": {
      "application/vnd.jupyter.widget-view+json": {
       "model_id": "07b7693769a4429cb6eb4de6009686f7",
       "version_major": 2,
       "version_minor": 0
      },
      "text/plain": [
       "ToggleButtons(description='What are the sentiments expressed by this tweet? choose all that applies. \\n  Do yo…"
      ]
     },
     "metadata": {},
     "output_type": "display_data"
    },
    {
     "data": {
      "application/vnd.jupyter.widget-view+json": {
       "model_id": "097bd94138ab4aa787ba7ab43919e9d3",
       "version_major": 2,
       "version_minor": 0
      },
      "text/plain": [
       "ToggleButtons(description=' Do you detect happiness?', options=('joy', 'pride', 'relief', 'gratitude', 'love',…"
      ]
     },
     "metadata": {},
     "output_type": "display_data"
    },
    {
     "data": {
      "application/vnd.jupyter.widget-view+json": {
       "model_id": "ec043b86f11146a2b0e99e5bb35c3ede",
       "version_major": 2,
       "version_minor": 0
      },
      "text/plain": [
       "ToggleButtons(description='Do you detect sadness?', options=('sadness', 'grief', 'remorse', 'disappointment'),…"
      ]
     },
     "metadata": {},
     "output_type": "display_data"
    },
    {
     "data": {
      "application/vnd.jupyter.widget-view+json": {
       "model_id": "e4195d339682446191b89fb39deb5b1f",
       "version_major": 2,
       "version_minor": 0
      },
      "text/plain": [
       "ToggleButtons(description='Do you detect fear?', options=('fear', 'nervousness'), value=None)"
      ]
     },
     "metadata": {},
     "output_type": "display_data"
    },
    {
     "data": {
      "application/vnd.jupyter.widget-view+json": {
       "model_id": "506f094d9f474791a1b082967f33c436",
       "version_major": 2,
       "version_minor": 0
      },
      "text/plain": [
       "ToggleButtons(description='Do you detect surprise?', options=('surprise', 'realization'), value=None)"
      ]
     },
     "metadata": {},
     "output_type": "display_data"
    },
    {
     "data": {
      "application/vnd.jupyter.widget-view+json": {
       "model_id": "c39181ae245a4f4aabbd404ef7499ebb",
       "version_major": 2,
       "version_minor": 0
      },
      "text/plain": [
       "ToggleButtons(description='Do you detect disgust?', options=('disgust',), value=None)"
      ]
     },
     "metadata": {},
     "output_type": "display_data"
    },
    {
     "data": {
      "application/vnd.jupyter.widget-view+json": {
       "model_id": "38814078d60b417e87a39f4d89bd0403",
       "version_major": 2,
       "version_minor": 0
      },
      "text/plain": [
       "ToggleButtons(description='Do you detect any of these feelings?', options=('confusion', 'curiosity', 'desire',…"
      ]
     },
     "metadata": {},
     "output_type": "display_data"
    },
    {
     "data": {
      "application/vnd.jupyter.widget-view+json": {
       "model_id": "93397d5a40f746a1b15bf90b01195623",
       "version_major": 2,
       "version_minor": 0
      },
      "text/plain": [
       "ToggleButtons(description='Which one of the following references do you recognize in this tweet?', options=('L…"
      ]
     },
     "metadata": {},
     "output_type": "display_data"
    },
    {
     "data": {
      "application/vnd.jupyter.widget-view+json": {
       "model_id": "118be29a464c4aedad11a1145c84dbea",
       "version_major": 2,
       "version_minor": 0
      },
      "text/plain": [
       "Button(button_style='info', description='submit', icon='check', style=ButtonStyle())"
      ]
     },
     "metadata": {},
     "output_type": "display_data"
    }
   ],
   "source": [
    "annotations = annotate(\n",
    "    samples,\n",
    "    PATH_SAVE\n",
    ")"
   ]
  },
  {
   "cell_type": "markdown",
   "metadata": {
    "id": "BtIK1otgvfGw"
   },
   "source": [
    "To access this document click on this link:\n",
    " https://docs.google.com/document/d/1mUm6Rs-ZkaXfYSmLUstIj1gvMO4UMjPrlW8KKXpChCI/edit?usp=sharing\n",
    "\n",
    "# Iran Protests Tweet Analysis Guidelines\n",
    "\n",
    "**Overview of the Task**\n",
    "\n",
    "Your objective is to analyze tweets related to the 2022 Iran protests. This involves two main tasks:\n",
    "\n",
    "**Emotion Annotation:**\n",
    "Identify and categorize the emotion expressed in the tweet. Use the provided emotion classification system to assign the appropriate label.\n",
    "Reference Annotation: Determine and classify the reference made in the tweet. Use the predefined set of classifications for accurate categorization.\n",
    "Each tweet may express a range of emotions and references. Your responsibility is to dissect and understand the sentiment and the specific references in the content.\n",
    "\n",
    "**Emotion Annotation:**\n",
    "Identify the predominant emotion in the tweet. Emotions are grouped into three categories: Positive, Negative, and Ambiguous. Select the emotion that most closely aligns with the tweet's content. If a tweet expresses multiple emotions, choose the most dominant one based on the tweet's context.\n",
    "**Positive Emotions:** Admiration, Desire, Love, Amusement, Excitement, Optimism, Approval, Gratitude, Pride, Caring, Joy, Relief.\n",
    "**Negative Emotions:** Anger, Annoyance, Disappointment, Disapproval, Disgust, Embarrassment, Fear, Grief, Nervousness, Remorse, Sadness.\n",
    "\n",
    "**Ambiguous Emotions: **Confusion, Curiosity, Realization, Surprise.\n",
    "\n",
    "\n",
    "#Reference Annotation\n",
    " Categorize the type of reference made in the tweet. References can be to entities, events, cultural elements, or sayings. Assign it to one or more of the following predefined classifications:\n",
    "Pop culture - Baraye, Pop culture - Other, Religious, Historical, Literature, Proverb, Other,\n",
    "\n",
    "A tweet can contain multiple references. Annotate each reference accordingly. If a reference does not fit any category or is too vague, label it as \"None\". Consider the cultural context and specific discourse of the 2022 Iran protests for accurate annotation.\n",
    "\n",
    "After choosing the right references add a note to EVERY tweet, except the ones with no reference, mentioning the reference in one or two words. Examples for Practice\n",
    "\n",
    "Pop Culture Reference: A pop culture reference involves mentions of a cultural artifact from a specific era, excluding personal names. For instance, a tweet about \"ده بیس سه پونزده هرکی میگه سیزده نیست ۱۴ ۱۵ ۱۶ بیست\" is a pop culture reference, while \"علی کریمی خیلی مردونگی کرد\" is not. Due to numerous Baraye tweets, we have two labels: Pop culture - Baraye, Pop culture - Other.\n",
    "Religious Reference: References to religious figures or events like \"امام علی\", \"کربلا\", \"حسین\", \"یزید\" are considered religious.\n",
    "Historical Reference: Mentions of historical figures or events like \"شاه؛ انقلاب؛ کورش؛ داریوش\" are historical references. References to historical sites don't qualify.\n",
    "Literature References: References to literature characters, poetry, or literary locations, like \"این ضحاک زمانه خون جوانان ما را میمکد\" or \"توران\", are considered literature references.\n",
    "Proverbs: Proverbs are treated separately from literature references, but note that curses are not classified as proverbs in this study.\n",
    "Example Annotations\n",
    "\n",
    "Tweet: \"برای ترس توی دل پدر و مادرهامون که تا سالها می‌گفتن پشت تلفن چیزی نگو.\"\n",
    "\n",
    "Emotion: Sadness (Negative)\n",
    "Reference: Baraye\n",
    "Tweet: محض رضای خدا بی شرفی و بی وجدانی تون توجیه نکنید ایران هیچوقت سوریه نمیشه چون عامل تنش زایی و ناامنی در منطقه خود این رژیم صهیونیستی اسرائیل و جمهوری به ظاهر اسلامیه که با سرنگونیش ریشه اسرائیل هم خشک میشه\n",
    "\n",
    "Emotion: Disapproval (Negative)\n",
    "Reference: Current Event\n",
    "Approach each tweet objectively, focusing on the content. The aim is to accurately capture the expressed emotions and references in the tweets."
   ]
  },
  {
   "cell_type": "markdown",
   "metadata": {
    "id": "Abjm2zMzlf9V"
   },
   "source": [
    "Support for third party widgets will remain active for the duration of the session. To disable support:"
   ]
  },
  {
   "cell_type": "markdown",
   "metadata": {
    "id": "faL6Elt-lfSh"
   },
   "source": [
    "Support for third party widgets will remain active for the duration of the session. To disable support:"
   ]
  },
  {
   "cell_type": "code",
   "execution_count": 12,
   "metadata": {
    "id": "mj_n_YbivtCe"
   },
   "outputs": [],
   "source": [
    "# Save demographics\n",
    "save_demographics(PATH_SAVE, demographics)"
   ]
  },
  {
   "cell_type": "code",
   "execution_count": 13,
   "metadata": {
    "id": "AgknmsNjvxuy"
   },
   "outputs": [],
   "source": [
    "# (optional) export csv\n",
    "export_csv(PATH_SAVE, \"./Template.csv\")"
   ]
  },
  {
   "cell_type": "code",
   "execution_count": 14,
   "metadata": {
    "id": "IgqKeHulv25h"
   },
   "outputs": [
    {
     "name": "stdout",
     "output_type": "stream",
     "text": [
      "7 annotations saved to ./Template.pkl so far\n"
     ]
    }
   ],
   "source": [
    "# (optional) if you are worried about your annotations, run this cell\n",
    "try:\n",
    "    saved_annotations, examples = load_annotations(PATH_SAVE, [])\n",
    "    print(f\"{len(saved_annotations['annots'])} annotations saved to {PATH_SAVE} so far\")\n",
    "except:\n",
    "    print(f\"nothing has been saved to {PATH_SAVE}\")"
   ]
  },
  {
   "cell_type": "code",
   "execution_count": null,
   "metadata": {},
   "outputs": [],
   "source": []
  }
 ],
 "metadata": {
  "colab": {
   "authorship_tag": "ABX9TyONqSa7ricRO4TCoHitWKl6",
   "machine_shape": "hm",
   "mount_file_id": "1NWKfEg7KDEbubROH3Aszif3r__QssAFg",
   "provenance": []
  },
  "kernelspec": {
   "display_name": "Python 3 (ipykernel)",
   "language": "python",
   "name": "python3"
  },
  "language_info": {
   "codemirror_mode": {
    "name": "ipython",
    "version": 3
   },
   "file_extension": ".py",
   "mimetype": "text/x-python",
   "name": "python",
   "nbconvert_exporter": "python",
   "pygments_lexer": "ipython3",
   "version": "3.8.1"
  },
  "widgets": {
   "application/vnd.jupyter.widget-state+json": {
    "01754243e2064c709a4c7daca844795d": {
     "model_module": "@jupyter-widgets/controls",
     "model_module_version": "2.0.0",
     "model_name": "HTMLStyleModel",
     "state": {
      "_model_module": "@jupyter-widgets/controls",
      "_model_module_version": "2.0.0",
      "_model_name": "HTMLStyleModel",
      "_view_count": null,
      "_view_module": "@jupyter-widgets/base",
      "_view_module_version": "2.0.0",
      "_view_name": "StyleView",
      "background": null,
      "description_width": "",
      "font_size": null,
      "text_color": null
     }
    },
    "03c6e44f3be94cfebe064741c0b3b85a": {
     "model_module": "@jupyter-widgets/controls",
     "model_module_version": "2.0.0",
     "model_name": "ToggleButtonsModel",
     "state": {
      "_dom_classes": [],
      "_model_module": "@jupyter-widgets/controls",
      "_model_module_version": "2.0.0",
      "_model_name": "ToggleButtonsModel",
      "_options_labels": [
       "STEM degree",
       "Non-STEM degree",
       "No Degree"
      ],
      "_view_count": null,
      "_view_module": "@jupyter-widgets/controls",
      "_view_module_version": "2.0.0",
      "_view_name": "ToggleButtonsView",
      "button_style": "",
      "description": "Based on the comment, what do you think is the expertise of the speaker?",
      "description_allow_html": false,
      "disabled": false,
      "icons": [],
      "index": null,
      "layout": "IPY_MODEL_6de238cf491041208b2c88b85d203e07",
      "style": "IPY_MODEL_c9aac4750c6249fda0dcdff2ad67e890",
      "tabbable": null,
      "tooltip": null,
      "tooltips": []
     }
    },
    "07c972b9c85046479f5fb389f01838b8": {
     "model_module": "@jupyter-widgets/controls",
     "model_module_version": "2.0.0",
     "model_name": "ToggleButtonsStyleModel",
     "state": {
      "_model_module": "@jupyter-widgets/controls",
      "_model_module_version": "2.0.0",
      "_model_name": "ToggleButtonsStyleModel",
      "_view_count": null,
      "_view_module": "@jupyter-widgets/base",
      "_view_module_version": "2.0.0",
      "_view_name": "StyleView",
      "button_width": "",
      "description_width": "",
      "font_weight": ""
     }
    },
    "0a528e32471141b6bbc022f53d624767": {
     "model_module": "@jupyter-widgets/base",
     "model_module_version": "2.0.0",
     "model_name": "LayoutModel",
     "state": {
      "_model_module": "@jupyter-widgets/base",
      "_model_module_version": "2.0.0",
      "_model_name": "LayoutModel",
      "_view_count": null,
      "_view_module": "@jupyter-widgets/base",
      "_view_module_version": "2.0.0",
      "_view_name": "LayoutView",
      "align_content": null,
      "align_items": null,
      "align_self": null,
      "border_bottom": null,
      "border_left": null,
      "border_right": null,
      "border_top": null,
      "bottom": null,
      "display": null,
      "flex": null,
      "flex_flow": null,
      "grid_area": null,
      "grid_auto_columns": null,
      "grid_auto_flow": null,
      "grid_auto_rows": null,
      "grid_column": null,
      "grid_gap": null,
      "grid_row": null,
      "grid_template_areas": null,
      "grid_template_columns": null,
      "grid_template_rows": null,
      "height": null,
      "justify_content": null,
      "justify_items": null,
      "left": null,
      "margin": null,
      "max_height": null,
      "max_width": null,
      "min_height": null,
      "min_width": null,
      "object_fit": null,
      "object_position": null,
      "order": null,
      "overflow": null,
      "padding": null,
      "right": null,
      "top": null,
      "visibility": null,
      "width": null
     }
    },
    "0df2e20f579341a393bf2d6d6fbc8d90": {
     "model_module": "@jupyter-widgets/controls",
     "model_module_version": "2.0.0",
     "model_name": "ToggleButtonsModel",
     "state": {
      "_dom_classes": [],
      "_model_module": "@jupyter-widgets/controls",
      "_model_module_version": "2.0.0",
      "_model_name": "ToggleButtonsModel",
      "_options_labels": [
       "Encouraging",
       "Discouraging"
      ],
      "_view_count": null,
      "_view_module": "@jupyter-widgets/controls",
      "_view_module_version": "2.0.0",
      "_view_name": "ToggleButtonsView",
      "button_style": "",
      "description": "Overall, is this response:",
      "description_allow_html": false,
      "disabled": false,
      "icons": [],
      "index": null,
      "layout": "IPY_MODEL_eb61d492980c45d3b276c65acd07d150",
      "style": "IPY_MODEL_07c972b9c85046479f5fb389f01838b8",
      "tabbable": null,
      "tooltip": null,
      "tooltips": []
     }
    },
    "122266379d8540d2b9227162b0fcc718": {
     "model_module": "@jupyter-widgets/controls",
     "model_module_version": "2.0.0",
     "model_name": "HTMLStyleModel",
     "state": {
      "_model_module": "@jupyter-widgets/controls",
      "_model_module_version": "2.0.0",
      "_model_name": "HTMLStyleModel",
      "_view_count": null,
      "_view_module": "@jupyter-widgets/base",
      "_view_module_version": "2.0.0",
      "_view_name": "StyleView",
      "background": null,
      "description_width": "",
      "font_size": null,
      "text_color": null
     }
    },
    "23545c3059ea4412bd2d49c0e226d1d6": {
     "model_module": "@jupyter-widgets/controls",
     "model_module_version": "2.0.0",
     "model_name": "HTMLModel",
     "state": {
      "_dom_classes": [],
      "_model_module": "@jupyter-widgets/controls",
      "_model_module_version": "2.0.0",
      "_model_name": "HTMLModel",
      "_view_count": null,
      "_view_module": "@jupyter-widgets/controls",
      "_view_module_version": "2.0.0",
      "_view_name": "HTMLView",
      "description": "",
      "description_allow_html": false,
      "layout": "IPY_MODEL_b696e700049f4733bfffd538a7f27677",
      "placeholder": "​",
      "style": "IPY_MODEL_01754243e2064c709a4c7daca844795d",
      "tabbable": null,
      "tooltip": null,
      "value": "<h4 class=\"text-center\"><u>Consider the following internet video, and its corresponding response:</u></h4><div class=\"row\"><p class=\"text-center\" style=\"padding-left:10%;padding-right:10%;font-size:120%\"><br>my advice, just quit your jobs, and become a fanatical stephan harris groupie, following them everywhere. i just want to hang out, and forget everything else. drink fresh dark coffee, and drift away, on the frequencies. ya dig daddy o.<br></p>  </div>"
     }
    },
    "2be3089ce07a4cb28037b2346dd26407": {
     "model_module": "@jupyter-widgets/base",
     "model_module_version": "2.0.0",
     "model_name": "LayoutModel",
     "state": {
      "_model_module": "@jupyter-widgets/base",
      "_model_module_version": "2.0.0",
      "_model_name": "LayoutModel",
      "_view_count": null,
      "_view_module": "@jupyter-widgets/base",
      "_view_module_version": "2.0.0",
      "_view_name": "LayoutView",
      "align_content": null,
      "align_items": null,
      "align_self": null,
      "border_bottom": null,
      "border_left": null,
      "border_right": null,
      "border_top": null,
      "bottom": null,
      "display": null,
      "flex": null,
      "flex_flow": null,
      "grid_area": null,
      "grid_auto_columns": null,
      "grid_auto_flow": null,
      "grid_auto_rows": null,
      "grid_column": null,
      "grid_gap": null,
      "grid_row": null,
      "grid_template_areas": null,
      "grid_template_columns": null,
      "grid_template_rows": null,
      "height": null,
      "justify_content": null,
      "justify_items": null,
      "left": null,
      "margin": null,
      "max_height": null,
      "max_width": null,
      "min_height": null,
      "min_width": null,
      "object_fit": null,
      "object_position": null,
      "order": null,
      "overflow": null,
      "padding": null,
      "right": null,
      "top": null,
      "visibility": null,
      "width": null
     }
    },
    "30b82255ec5c4530ac93d9b9f619442f": {
     "model_module": "@jupyter-widgets/controls",
     "model_module_version": "2.0.0",
     "model_name": "ButtonStyleModel",
     "state": {
      "_model_module": "@jupyter-widgets/controls",
      "_model_module_version": "2.0.0",
      "_model_name": "ButtonStyleModel",
      "_view_count": null,
      "_view_module": "@jupyter-widgets/base",
      "_view_module_version": "2.0.0",
      "_view_name": "StyleView",
      "button_color": null,
      "font_family": null,
      "font_size": null,
      "font_style": null,
      "font_variant": null,
      "font_weight": null,
      "text_color": null,
      "text_decoration": null
     }
    },
    "404f76c7b0ed46c3b3e6c7fb70f5fab7": {
     "model_module": "@jupyter-widgets/controls",
     "model_module_version": "2.0.0",
     "model_name": "ToggleButtonsModel",
     "state": {
      "_dom_classes": [],
      "_model_module": "@jupyter-widgets/controls",
      "_model_module_version": "2.0.0",
      "_model_name": "ToggleButtonsModel",
      "_options_labels": [
       "Disrespectful",
       "Neutral",
       "Respectful"
      ],
      "_view_count": null,
      "_view_module": "@jupyter-widgets/controls",
      "_view_module_version": "2.0.0",
      "_view_name": "ToggleButtonsView",
      "button_style": "",
      "description": "Overall, is this response:",
      "description_allow_html": false,
      "disabled": false,
      "icons": [],
      "index": null,
      "layout": "IPY_MODEL_0a528e32471141b6bbc022f53d624767",
      "style": "IPY_MODEL_aa0711b8a38442efac5f7b8ee638940e",
      "tabbable": null,
      "tooltip": null,
      "tooltips": []
     }
    },
    "4d0fdc3f4de74624a2719735f9a559b9": {
     "model_module": "@jupyter-widgets/controls",
     "model_module_version": "2.0.0",
     "model_name": "ToggleButtonsModel",
     "state": {
      "_dom_classes": [],
      "_model_module": "@jupyter-widgets/controls",
      "_model_module_version": "2.0.0",
      "_model_name": "ToggleButtonsModel",
      "_options_labels": [
       "Female",
       "Male"
      ],
      "_view_count": null,
      "_view_module": "@jupyter-widgets/controls",
      "_view_module_version": "2.0.0",
      "_view_name": "ToggleButtonsView",
      "button_style": "",
      "description": "You personally identify as:",
      "description_allow_html": false,
      "disabled": false,
      "icons": [],
      "index": null,
      "layout": "IPY_MODEL_7926e8fba1f941e9b64ca80ee066425c",
      "style": "IPY_MODEL_e0347df61c54426bbaf8b67ee745ce11",
      "tabbable": null,
      "tooltip": null,
      "tooltips": []
     }
    },
    "6de238cf491041208b2c88b85d203e07": {
     "model_module": "@jupyter-widgets/base",
     "model_module_version": "2.0.0",
     "model_name": "LayoutModel",
     "state": {
      "_model_module": "@jupyter-widgets/base",
      "_model_module_version": "2.0.0",
      "_model_name": "LayoutModel",
      "_view_count": null,
      "_view_module": "@jupyter-widgets/base",
      "_view_module_version": "2.0.0",
      "_view_name": "LayoutView",
      "align_content": null,
      "align_items": null,
      "align_self": null,
      "border_bottom": null,
      "border_left": null,
      "border_right": null,
      "border_top": null,
      "bottom": null,
      "display": null,
      "flex": null,
      "flex_flow": null,
      "grid_area": null,
      "grid_auto_columns": null,
      "grid_auto_flow": null,
      "grid_auto_rows": null,
      "grid_column": null,
      "grid_gap": null,
      "grid_row": null,
      "grid_template_areas": null,
      "grid_template_columns": null,
      "grid_template_rows": null,
      "height": null,
      "justify_content": null,
      "justify_items": null,
      "left": null,
      "margin": null,
      "max_height": null,
      "max_width": null,
      "min_height": null,
      "min_width": null,
      "object_fit": null,
      "object_position": null,
      "order": null,
      "overflow": null,
      "padding": null,
      "right": null,
      "top": null,
      "visibility": null,
      "width": null
     }
    },
    "70f40574bdce4080b9faca28fc0d0402": {
     "model_module": "@jupyter-widgets/base",
     "model_module_version": "2.0.0",
     "model_name": "LayoutModel",
     "state": {
      "_model_module": "@jupyter-widgets/base",
      "_model_module_version": "2.0.0",
      "_model_name": "LayoutModel",
      "_view_count": null,
      "_view_module": "@jupyter-widgets/base",
      "_view_module_version": "2.0.0",
      "_view_name": "LayoutView",
      "align_content": null,
      "align_items": null,
      "align_self": null,
      "border_bottom": null,
      "border_left": null,
      "border_right": null,
      "border_top": null,
      "bottom": null,
      "display": null,
      "flex": null,
      "flex_flow": null,
      "grid_area": null,
      "grid_auto_columns": null,
      "grid_auto_flow": null,
      "grid_auto_rows": null,
      "grid_column": null,
      "grid_gap": null,
      "grid_row": null,
      "grid_template_areas": null,
      "grid_template_columns": null,
      "grid_template_rows": null,
      "height": null,
      "justify_content": null,
      "justify_items": null,
      "left": null,
      "margin": null,
      "max_height": null,
      "max_width": null,
      "min_height": null,
      "min_width": null,
      "object_fit": null,
      "object_position": null,
      "order": null,
      "overflow": null,
      "padding": null,
      "right": null,
      "top": null,
      "visibility": null,
      "width": null
     }
    },
    "7926e8fba1f941e9b64ca80ee066425c": {
     "model_module": "@jupyter-widgets/base",
     "model_module_version": "2.0.0",
     "model_name": "LayoutModel",
     "state": {
      "_model_module": "@jupyter-widgets/base",
      "_model_module_version": "2.0.0",
      "_model_name": "LayoutModel",
      "_view_count": null,
      "_view_module": "@jupyter-widgets/base",
      "_view_module_version": "2.0.0",
      "_view_name": "LayoutView",
      "align_content": null,
      "align_items": null,
      "align_self": null,
      "border_bottom": null,
      "border_left": null,
      "border_right": null,
      "border_top": null,
      "bottom": null,
      "display": null,
      "flex": null,
      "flex_flow": null,
      "grid_area": null,
      "grid_auto_columns": null,
      "grid_auto_flow": null,
      "grid_auto_rows": null,
      "grid_column": null,
      "grid_gap": null,
      "grid_row": null,
      "grid_template_areas": null,
      "grid_template_columns": null,
      "grid_template_rows": null,
      "height": null,
      "justify_content": null,
      "justify_items": null,
      "left": null,
      "margin": null,
      "max_height": null,
      "max_width": null,
      "min_height": null,
      "min_width": null,
      "object_fit": null,
      "object_position": null,
      "order": null,
      "overflow": null,
      "padding": null,
      "right": null,
      "top": null,
      "visibility": null,
      "width": null
     }
    },
    "81f1c9db75ce429bba950c322d0272e7": {
     "model_module": "@jupyter-widgets/controls",
     "model_module_version": "2.0.0",
     "model_name": "ToggleButtonsStyleModel",
     "state": {
      "_model_module": "@jupyter-widgets/controls",
      "_model_module_version": "2.0.0",
      "_model_name": "ToggleButtonsStyleModel",
      "_view_count": null,
      "_view_module": "@jupyter-widgets/base",
      "_view_module_version": "2.0.0",
      "_view_name": "StyleView",
      "button_width": "",
      "description_width": "",
      "font_weight": ""
     }
    },
    "83391b8e022b4695b88447cec3548af0": {
     "model_module": "@jupyter-widgets/controls",
     "model_module_version": "2.0.0",
     "model_name": "ToggleButtonsStyleModel",
     "state": {
      "_model_module": "@jupyter-widgets/controls",
      "_model_module_version": "2.0.0",
      "_model_name": "ToggleButtonsStyleModel",
      "_view_count": null,
      "_view_module": "@jupyter-widgets/base",
      "_view_module_version": "2.0.0",
      "_view_name": "StyleView",
      "button_width": "",
      "description_width": "",
      "font_weight": ""
     }
    },
    "86e254778eeb4b14999de40e3daed132": {
     "model_module": "@jupyter-widgets/controls",
     "model_module_version": "2.0.0",
     "model_name": "ButtonModel",
     "state": {
      "_dom_classes": [],
      "_model_module": "@jupyter-widgets/controls",
      "_model_module_version": "2.0.0",
      "_model_name": "ButtonModel",
      "_view_count": null,
      "_view_module": "@jupyter-widgets/controls",
      "_view_module_version": "2.0.0",
      "_view_name": "ButtonView",
      "button_style": "info",
      "description": "submit",
      "disabled": false,
      "icon": "check",
      "layout": "IPY_MODEL_2be3089ce07a4cb28037b2346dd26407",
      "style": "IPY_MODEL_30b82255ec5c4530ac93d9b9f619442f",
      "tabbable": null,
      "tooltip": null
     }
    },
    "93df2a188fff480083b16334a3256095": {
     "model_module": "@jupyter-widgets/base",
     "model_module_version": "2.0.0",
     "model_name": "LayoutModel",
     "state": {
      "_model_module": "@jupyter-widgets/base",
      "_model_module_version": "2.0.0",
      "_model_name": "LayoutModel",
      "_view_count": null,
      "_view_module": "@jupyter-widgets/base",
      "_view_module_version": "2.0.0",
      "_view_name": "LayoutView",
      "align_content": null,
      "align_items": null,
      "align_self": null,
      "border_bottom": null,
      "border_left": null,
      "border_right": null,
      "border_top": null,
      "bottom": null,
      "display": null,
      "flex": null,
      "flex_flow": null,
      "grid_area": null,
      "grid_auto_columns": null,
      "grid_auto_flow": null,
      "grid_auto_rows": null,
      "grid_column": null,
      "grid_gap": null,
      "grid_row": null,
      "grid_template_areas": null,
      "grid_template_columns": null,
      "grid_template_rows": null,
      "height": null,
      "justify_content": null,
      "justify_items": null,
      "left": null,
      "margin": null,
      "max_height": null,
      "max_width": null,
      "min_height": null,
      "min_width": null,
      "object_fit": null,
      "object_position": null,
      "order": null,
      "overflow": null,
      "padding": null,
      "right": null,
      "top": null,
      "visibility": null,
      "width": null
     }
    },
    "aa0711b8a38442efac5f7b8ee638940e": {
     "model_module": "@jupyter-widgets/controls",
     "model_module_version": "2.0.0",
     "model_name": "ToggleButtonsStyleModel",
     "state": {
      "_model_module": "@jupyter-widgets/controls",
      "_model_module_version": "2.0.0",
      "_model_name": "ToggleButtonsStyleModel",
      "_view_count": null,
      "_view_module": "@jupyter-widgets/base",
      "_view_module_version": "2.0.0",
      "_view_name": "StyleView",
      "button_width": "",
      "description_width": "",
      "font_weight": ""
     }
    },
    "af152251a9934cb8ab646b2a2d74bdb8": {
     "model_module": "@jupyter-widgets/controls",
     "model_module_version": "2.0.0",
     "model_name": "ToggleButtonsModel",
     "state": {
      "_dom_classes": [],
      "_model_module": "@jupyter-widgets/controls",
      "_model_module_version": "2.0.0",
      "_model_name": "ToggleButtonsModel",
      "_options_labels": [
       "0-15",
       "15-25",
       "25-35",
       "35+"
      ],
      "_view_count": null,
      "_view_module": "@jupyter-widgets/controls",
      "_view_module_version": "2.0.0",
      "_view_name": "ToggleButtonsView",
      "button_style": "",
      "description": "Please select the correct age bracket:",
      "description_allow_html": false,
      "disabled": false,
      "icons": [],
      "index": null,
      "layout": "IPY_MODEL_93df2a188fff480083b16334a3256095",
      "style": "IPY_MODEL_83391b8e022b4695b88447cec3548af0",
      "tabbable": null,
      "tooltip": null,
      "tooltips": []
     }
    },
    "b696e700049f4733bfffd538a7f27677": {
     "model_module": "@jupyter-widgets/base",
     "model_module_version": "2.0.0",
     "model_name": "LayoutModel",
     "state": {
      "_model_module": "@jupyter-widgets/base",
      "_model_module_version": "2.0.0",
      "_model_name": "LayoutModel",
      "_view_count": null,
      "_view_module": "@jupyter-widgets/base",
      "_view_module_version": "2.0.0",
      "_view_name": "LayoutView",
      "align_content": null,
      "align_items": null,
      "align_self": null,
      "border_bottom": null,
      "border_left": null,
      "border_right": null,
      "border_top": null,
      "bottom": null,
      "display": null,
      "flex": null,
      "flex_flow": null,
      "grid_area": null,
      "grid_auto_columns": null,
      "grid_auto_flow": null,
      "grid_auto_rows": null,
      "grid_column": null,
      "grid_gap": null,
      "grid_row": null,
      "grid_template_areas": null,
      "grid_template_columns": null,
      "grid_template_rows": null,
      "height": null,
      "justify_content": null,
      "justify_items": null,
      "left": null,
      "margin": null,
      "max_height": null,
      "max_width": null,
      "min_height": null,
      "min_width": null,
      "object_fit": null,
      "object_position": null,
      "order": null,
      "overflow": null,
      "padding": null,
      "right": null,
      "top": null,
      "visibility": null,
      "width": null
     }
    },
    "c9aac4750c6249fda0dcdff2ad67e890": {
     "model_module": "@jupyter-widgets/controls",
     "model_module_version": "2.0.0",
     "model_name": "ToggleButtonsStyleModel",
     "state": {
      "_model_module": "@jupyter-widgets/controls",
      "_model_module_version": "2.0.0",
      "_model_name": "ToggleButtonsStyleModel",
      "_view_count": null,
      "_view_module": "@jupyter-widgets/base",
      "_view_module_version": "2.0.0",
      "_view_name": "StyleView",
      "button_width": "",
      "description_width": "",
      "font_weight": ""
     }
    },
    "d605090e47cb4e10837127fbcb69478e": {
     "model_module": "@jupyter-widgets/base",
     "model_module_version": "2.0.0",
     "model_name": "LayoutModel",
     "state": {
      "_model_module": "@jupyter-widgets/base",
      "_model_module_version": "2.0.0",
      "_model_name": "LayoutModel",
      "_view_count": null,
      "_view_module": "@jupyter-widgets/base",
      "_view_module_version": "2.0.0",
      "_view_name": "LayoutView",
      "align_content": null,
      "align_items": null,
      "align_self": null,
      "border_bottom": null,
      "border_left": null,
      "border_right": null,
      "border_top": null,
      "bottom": null,
      "display": null,
      "flex": null,
      "flex_flow": null,
      "grid_area": null,
      "grid_auto_columns": null,
      "grid_auto_flow": null,
      "grid_auto_rows": null,
      "grid_column": null,
      "grid_gap": null,
      "grid_row": null,
      "grid_template_areas": null,
      "grid_template_columns": null,
      "grid_template_rows": null,
      "height": null,
      "justify_content": null,
      "justify_items": null,
      "left": null,
      "margin": null,
      "max_height": null,
      "max_width": null,
      "min_height": null,
      "min_width": null,
      "object_fit": null,
      "object_position": null,
      "order": null,
      "overflow": null,
      "padding": null,
      "right": null,
      "top": null,
      "visibility": null,
      "width": null
     }
    },
    "da276a317e284bb481120f55b57364b3": {
     "model_module": "@jupyter-widgets/controls",
     "model_module_version": "2.0.0",
     "model_name": "HTMLModel",
     "state": {
      "_dom_classes": [],
      "_model_module": "@jupyter-widgets/controls",
      "_model_module_version": "2.0.0",
      "_model_name": "HTMLModel",
      "_view_count": null,
      "_view_module": "@jupyter-widgets/controls",
      "_view_module_version": "2.0.0",
      "_view_name": "HTMLView",
      "description": "",
      "description_allow_html": false,
      "layout": "IPY_MODEL_70f40574bdce4080b9faca28fc0d0402",
      "placeholder": "​",
      "style": "IPY_MODEL_122266379d8540d2b9227162b0fcc718",
      "tabbable": null,
      "tooltip": null,
      "value": "0 of 40 Examples annotated, Current Position: 1"
     }
    },
    "e0347df61c54426bbaf8b67ee745ce11": {
     "model_module": "@jupyter-widgets/controls",
     "model_module_version": "2.0.0",
     "model_name": "ToggleButtonsStyleModel",
     "state": {
      "_model_module": "@jupyter-widgets/controls",
      "_model_module_version": "2.0.0",
      "_model_name": "ToggleButtonsStyleModel",
      "_view_count": null,
      "_view_module": "@jupyter-widgets/base",
      "_view_module_version": "2.0.0",
      "_view_name": "StyleView",
      "button_width": "",
      "description_width": "",
      "font_weight": ""
     }
    },
    "eb61d492980c45d3b276c65acd07d150": {
     "model_module": "@jupyter-widgets/base",
     "model_module_version": "2.0.0",
     "model_name": "LayoutModel",
     "state": {
      "_model_module": "@jupyter-widgets/base",
      "_model_module_version": "2.0.0",
      "_model_name": "LayoutModel",
      "_view_count": null,
      "_view_module": "@jupyter-widgets/base",
      "_view_module_version": "2.0.0",
      "_view_name": "LayoutView",
      "align_content": null,
      "align_items": null,
      "align_self": null,
      "border_bottom": null,
      "border_left": null,
      "border_right": null,
      "border_top": null,
      "bottom": null,
      "display": null,
      "flex": null,
      "flex_flow": null,
      "grid_area": null,
      "grid_auto_columns": null,
      "grid_auto_flow": null,
      "grid_auto_rows": null,
      "grid_column": null,
      "grid_gap": null,
      "grid_row": null,
      "grid_template_areas": null,
      "grid_template_columns": null,
      "grid_template_rows": null,
      "height": null,
      "justify_content": null,
      "justify_items": null,
      "left": null,
      "margin": null,
      "max_height": null,
      "max_width": null,
      "min_height": null,
      "min_width": null,
      "object_fit": null,
      "object_position": null,
      "order": null,
      "overflow": null,
      "padding": null,
      "right": null,
      "top": null,
      "visibility": null,
      "width": null
     }
    },
    "f841d64a83ce412ea4eb16b0d69ee86f": {
     "model_module": "@jupyter-widgets/controls",
     "model_module_version": "2.0.0",
     "model_name": "ToggleButtonsModel",
     "state": {
      "_dom_classes": [],
      "_model_module": "@jupyter-widgets/controls",
      "_model_module_version": "2.0.0",
      "_model_name": "ToggleButtonsModel",
      "_options_labels": [
       "Strongly Negative",
       "Negative",
       "Neutral",
       "Positive",
       "Strongly Positive",
       "None"
      ],
      "_view_count": null,
      "_view_module": "@jupyter-widgets/controls",
      "_view_module_version": "2.0.0",
      "_view_name": "ToggleButtonsView",
      "button_style": "",
      "description": "What is the tone of the response with regards to the original poster or speaker?",
      "description_allow_html": false,
      "disabled": false,
      "icons": [],
      "index": null,
      "layout": "IPY_MODEL_d605090e47cb4e10837127fbcb69478e",
      "style": "IPY_MODEL_81f1c9db75ce429bba950c322d0272e7",
      "tabbable": null,
      "tooltip": null,
      "tooltips": []
     }
    }
   }
  }
 },
 "nbformat": 4,
 "nbformat_minor": 4
}
